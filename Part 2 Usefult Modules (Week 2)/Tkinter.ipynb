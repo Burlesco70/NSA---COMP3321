{
 "cells": [
  {
   "cell_type": "markdown",
   "metadata": {},
   "source": [
    "# Tkinter \n",
    "\n",
    "Tkinter comes as part of Python, so is readily available for use-just import it. \n",
    "\n",
    "Note: While Tkinter is almost always available, Python can be installed without it, e.g. if Tcl/Tk is not available when Python is compiled. \n",
    "\n",
    "Tk is a widget library that was originally designed for the Tcl scripting language, but now has been ported to Perl, Ruby, Python, C++ and more. \n",
    "\n",
    "NOTE: In Python 2 it must be used as Tkinter with a capital T "
   ]
  },
  {
   "cell_type": "markdown",
   "metadata": {},
   "source": [
    "This lesson cannot currently be run from Jupyter on LABBENCH due to displayback limitations. \n",
    "It should work using Anaconda's Jupyter locally.\n",
    "The examples can also be copied to files and run as scripts "
   ]
  },
  {
   "cell_type": "markdown",
   "metadata": {},
   "source": [
    "## What's a GUI (Graphical User Interface)\n",
    "\n",
    "We all use them, some of us love them and hate them. \n",
    "\n",
    "Do we consider it 2- or 3-dimensional (2.5-dimensional)? \n",
    "\n",
    "Let's look at some very basic examples."
   ]
  },
  {
   "cell_type": "markdown",
   "metadata": {},
   "source": [
    "### Example 1"
   ]
  },
  {
   "cell_type": "code",
   "execution_count": 2,
   "metadata": {},
   "outputs": [],
   "source": [
    "import tkinter as tk \n",
    "root = tk.Tk() \n",
    "root.mainloop()"
   ]
  },
  {
   "cell_type": "markdown",
   "metadata": {},
   "source": [
    "We just created our first gui! \n",
    "\n",
    "But it doesn’t do a whole lot yet. \n",
    "\n",
    "That is because we only created a blank/empty window that is waiting for our creation, `tk.Tk()` is the top level window that we will create for every gui that we make.\n",
    "\n",
    "Parts of a gui:\n",
    "\n",
    "Choose widgets ==> Arrange in window ==> Add functionality"
   ]
  },
  {
   "cell_type": "markdown",
   "metadata": {},
   "source": [
    "### Example 2\n",
    "\n",
    "A first look at widgets!"
   ]
  },
  {
   "cell_type": "code",
   "execution_count": 3,
   "metadata": {},
   "outputs": [],
   "source": [
    "#Basic gui with a label and a button\n",
    "import tkinter as tk \n",
    "root = tk.Tk()\n",
    "label = tk.Label(root, text=\"I am a label widget\") #Create label\n",
    "button = tk.Button(root, text=\"I am a button\") #Create button\n",
    "\n",
    "label.pack() #Add label to gui\n",
    "button.pack() #Add button to gui\n",
    "\n",
    "root.mainloop()"
   ]
  },
  {
   "cell_type": "markdown",
   "metadata": {},
   "source": [
    "## Widget Types"
   ]
  },
  {
   "cell_type": "markdown",
   "metadata": {},
   "source": [
    "![Widget Types - 1](img/wt1.png)\n",
    "![Widget Types - 2](img/wt2.png)"
   ]
  },
  {
   "cell_type": "markdown",
   "metadata": {},
   "source": [
    "Other widgets: `OptionMenu` , `LabelFrame` , `PanedWindow` , `Bitmap Class`, `Spinbox`, `Image Class`"
   ]
  },
  {
   "cell_type": "markdown",
   "metadata": {},
   "source": [
    "### Example 3\n",
    "\n",
    "Let’s look at some other widget examples.\n",
    "\n",
    "Also notice, that widgets have their own special \"widget variables\".\n",
    "\n",
    "Instead of using builtin python types, tk widgets use their own objects for storing this internal information. \n",
    "\n",
    "The tk widget variables are: `StringVar` , `IntVar` , `DoubleVar` and `BooleanVar`"
   ]
  },
  {
   "cell_type": "code",
   "execution_count": 8,
   "metadata": {},
   "outputs": [],
   "source": [
    "import tkinter as tk\n",
    "\n",
    "root = tk.Tk()\n",
    "\n",
    "tk.Label(root, text=\"Enter your Password:\" ).pack() \n",
    "tk.Button(root, text=\"Search\").pack() \n",
    "\n",
    "v = tk.IntVar() \n",
    "tk.Checkbutton(root, text=\"Remember Me\" , variable=v).pack()\n",
    "tk.Entry(root, width=30) \n",
    "\n",
    "v2 = tk.IntVar() \n",
    "tk.Radiobutton(root, text=\"Male\", variable=v2, value=1).pack() \n",
    "tk.Radiobutton(root, text=\"Female\", variable=v2, value=2).pack() \n",
    "\n",
    "var = tk.IntVar() \n",
    "tk.OptionMenu(root, var, \"Select Country\", \"USA\" , \"UK\" , \"India\", \"others\").pack() \n",
    "tk.Scrollbar(root, orient='vertical' ).pack()\n",
    "\n",
    "root.mainloop()"
   ]
  },
  {
   "cell_type": "markdown",
   "metadata": {},
   "source": [
    "## Three ways to configure a widget\n",
    "\n",
    "1. Setting the values during initialization. (The way we have been doing it so far). \n",
    "\n",
    "2. Using keys to set the values. \n",
    "\n",
    "3. Using the widget's configure method"
   ]
  },
  {
   "cell_type": "markdown",
   "metadata": {},
   "source": [
    "## Widget attributes\n",
    "\n",
    "There are tons of options that can be set, but here are a few of the important ones.\n",
    "\n",
    "![Widget attributes](img/wa.png)"
   ]
  },
  {
   "cell_type": "markdown",
   "metadata": {},
   "source": [
    "### Example 4\n",
    "\n",
    "Let's try redoing Example 2 using the key/value method to make our label and the `.configure()` method to make our button. "
   ]
  },
  {
   "cell_type": "code",
   "execution_count": 10,
   "metadata": {},
   "outputs": [],
   "source": [
    "#Basic gui with a label and a button \n",
    "import tkinter as tk \n",
    "\n",
    "root = tk.Tk() \n",
    "\n",
    "label = tk.Label(root) \n",
    "label[\"text\"]=\"I am a label widget\" #using keys\n",
    "button = tk. Button(root) \n",
    "button.configure(text=\"I am a button\") #using configure\n",
    "\n",
    "label.pack() #Add label to gui\n",
    "button.pack() #Add button to gui \n",
    "\n",
    "root.mainloop() "
   ]
  },
  {
   "cell_type": "markdown",
   "metadata": {},
   "source": [
    "## Geometry Managers\n",
    "\n",
    "Now that we know how to create widgets, we're on to step two: arranging them in our window!\n",
    "\n",
    "There are mainly two types of geometry managers:\n",
    "\n",
    "- `Pack`\n",
    "- `Grid` \n",
    "\n",
    "There is also a third--Place--but maybe that's not for today. "
   ]
  },
  {
   "cell_type": "markdown",
   "metadata": {},
   "source": [
    "### Pack\n",
    "\n",
    "Quick, easy, effective. \n",
    "\n",
    "If things get complicated, use `Grid` instead.\n",
    "\n",
    "![Pack](img/pack.png)"
   ]
  },
  {
   "cell_type": "markdown",
   "metadata": {},
   "source": [
    "### Example 5\n",
    "\n",
    "The pack geometry manager arranges widgets relative to window/frame you are putting them in. \n",
    "\n",
    "For example, if you select `side=LEFT` it will pack you widget against the left side of the widget."
   ]
  },
  {
   "cell_type": "code",
   "execution_count": 14,
   "metadata": {},
   "outputs": [],
   "source": [
    "#Example using pack geomtry manager \n",
    "from tkinter import * \n",
    "\n",
    "root = Tk() \n",
    "parent = Frame(root) \n",
    "# placing widgets top-down \n",
    "Button(parent, text='ALL IS WELL').pack(fill=X) \n",
    "Button(parent, text='BACK TO BASICS').pack(fill=X) \n",
    "Button(parent, text='CATCH ME IF U CAN').pack(fill=X) \n",
    "# placing widgets side by side \n",
    "Button(parent, text='LEFT').pack(side=LEFT) \n",
    "Button(parent, text='CENTER').pack(side=LEFT) \n",
    "Button(parent, text='RIGHT').pack(side=LEFT)\n",
    "\n",
    "parent.pack() \n",
    "root.mainloop()"
   ]
  },
  {
   "cell_type": "markdown",
   "metadata": {},
   "source": [
    "### Example 6\n",
    "\n",
    "Generally, the pack geometry manager is best for simple gui's, but one way to make more complicated gui's using `pack` is to group widgets together in a `Frame` and then add the `Frame` to your window."
   ]
  },
  {
   "cell_type": "code",
   "execution_count": 19,
   "metadata": {},
   "outputs": [],
   "source": [
    "#Example using pack geometry manager \n",
    "from tkinter import * \n",
    "\n",
    "root = Tk() \n",
    "frame = Frame(root) #Add frame for grouping widgits \n",
    "\n",
    "# demo of side and fill options \n",
    "Label(frame, text=\"Pack Demo of side and fill\").pack() \n",
    "Button(frame, text=\"A\").pack(side=LEFT, fill=Y) \n",
    "Button(frame, text=\"B\").pack(side=TOP, fill=X) \n",
    "Button(frame, text=\"C\").pack(side=RIGHT, fill=NONE) \n",
    "Button(frame, text=\"D\").pack(side=TOP, fill=BOTH) \n",
    "frame.pack() \n",
    "# note the top frame does not expand nor does it fill in \n",
    "\n",
    "# X or Y directions \n",
    "# demo of expand options - best understood by expanding the root widget and seeing the effect on all the three buttons below. \n",
    "Label (root, text=\"Pack Demo of expand\").pack() \n",
    "Button(root, text=\"I do not expand\").pack() \n",
    "Button(root, text=\"I do not fill x but I do not expand\").pack(expand=1) \n",
    "Button(root, text=\"I fill x and expand\").pack(fill=X, expand=1) \n",
    "\n",
    "root.mainloop()"
   ]
  },
  {
   "cell_type": "markdown",
   "metadata": {},
   "source": [
    "... to be completed ..."
   ]
  }
 ],
 "metadata": {
  "kernelspec": {
   "display_name": "Python 3",
   "language": "python",
   "name": "python3"
  },
  "language_info": {
   "codemirror_mode": {
    "name": "ipython",
    "version": 3
   },
   "file_extension": ".py",
   "mimetype": "text/x-python",
   "name": "python",
   "nbconvert_exporter": "python",
   "pygments_lexer": "ipython3",
   "version": "3.7.1"
  },
  "toc": {
   "base_numbering": 1,
   "nav_menu": {},
   "number_sections": true,
   "sideBar": true,
   "skip_h1_title": false,
   "title_cell": "Table of Contents",
   "title_sidebar": "Contents",
   "toc_cell": false,
   "toc_position": {},
   "toc_section_display": true,
   "toc_window_display": false
  }
 },
 "nbformat": 4,
 "nbformat_minor": 2
}
